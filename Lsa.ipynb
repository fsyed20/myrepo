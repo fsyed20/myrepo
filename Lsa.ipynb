{
 "cells": [
  {
   "cell_type": "markdown",
   "metadata": {},
   "source": [
    "## LSA Lab"
   ]
  },
  {
   "cell_type": "code",
   "execution_count": 2,
   "metadata": {
    "collapsed": true
   },
   "outputs": [],
   "source": [
    "from sklearn.datasets import fetch_20newsgroups\n",
    "categories = ['rec.sport.baseball']\n",
    "dataset = fetch_20newsgroups(subset='all',shuffle=True, random_state=42, categories=categories)\n",
    "corpus = dataset.data"
   ]
  },
  {
   "cell_type": "code",
   "execution_count": 202,
   "metadata": {
    "collapsed": true
   },
   "outputs": [],
   "source": [
    "\n",
    "import nltk\n",
    "from nltk.corpus import stopwords\n",
    "from sklearn.feature_extraction.text import TfidfVectorizer\n",
    "from sklearn.decomposition import TruncatedSVD"
   ]
  },
  {
   "cell_type": "code",
   "execution_count": 203,
   "metadata": {
    "collapsed": false
   },
   "outputs": [
    {
     "data": {
      "text/plain": [
       "['rec.sport.baseball']"
      ]
     },
     "execution_count": 203,
     "metadata": {},
     "output_type": "execute_result"
    }
   ],
   "source": [
    "dataset.target_names"
   ]
  },
  {
   "cell_type": "code",
   "execution_count": 7,
   "metadata": {
    "collapsed": false
   },
   "outputs": [
    {
     "data": {
      "text/plain": [
       "994"
      ]
     },
     "execution_count": 7,
     "metadata": {},
     "output_type": "execute_result"
    }
   ],
   "source": [
    "len(corpus)"
   ]
  },
  {
   "cell_type": "code",
   "execution_count": 271,
   "metadata": {
    "collapsed": false,
    "scrolled": true
   },
   "outputs": [
    {
     "name": "stdout",
     "output_type": "stream",
     "text": [
      "From: schmke@cco.caltech.edu (Kevin Todd Schmidt)\n",
      "Subject: NL OPI through first week+\n",
      "Organization: California Institute of Technology, Pasadena\n",
      "Lines: 184\n",
      "NNTP-Posting-Host: sandman.caltech.edu\n",
      "\n",
      "Here is the OPI (Offensive Production Index) for all NL players with at\n",
      "least 10 at-bats.\n",
      "\n",
      "It is early in the season so there are some high numbers.  Barry Bonds\n",
      "finished last season at 0.795.\n",
      "\n",
      "I welcome comments and suggestions.\n",
      "\n",
      "Kevin\n",
      "\n",
      "League OPI: 0.410\n",
      "League BA:  0.252\n",
      "League SLG: 0.375\n",
      "League OBA: 0.321\n",
      "\n",
      "Rank Player                 OPI     BA    SLG    OBA\n",
      "-----------------------------------------------------\n",
      "1    Phi,daulton           1.101  0.333  0.875  0.515\n",
      "2    Phi,kruk              1.069  0.429  0.821  0.529\n",
      "3    Cub,grace             1.007  0.452  0.742  0.514\n",
      "4    Cub,may               0.931  0.389  0.889  0.421\n",
      "5    Col,boston            0.888  0.545  0.545  0.545\n",
      "6    Pit,bell              0.873  0.429  0.714  0.467\n",
      "7    Col,galarraga         0.867  0.458  0.708  0.458\n",
      "8    StL,pena              0.833  0.400  0.600  0.516\n",
      "9    StL,zeile             0.811  0.440  0.560  0.500\n",
      "10   Cin,mitchell          0.810  0.429  0.643  0.467\n",
      "11   Mon,lansing           0.792  0.419  0.677  0.438\n",
      "12   Pit,slaught           0.754  0.474  0.526  0.474\n",
      "13   Mon,vanderwal         0.746  0.389  0.556  0.476\n",
      "14   NYM,tfernandez        0.709  0.300  0.400  0.500\n",
      "15   SnF,martinez          0.697  0.300  0.400  0.500\n",
      "16   Hou,bagwell           0.695  0.367  0.567  0.424\n",
      "17   Col,hayes             0.686  0.333  0.667  0.364\n",
      "18   Col,eyoung            0.682  0.333  0.500  0.407\n",
      "19   Mon,alou              0.675  0.371  0.600  0.389\n",
      "20   Cin,milligan          0.659  0.333  0.375  0.515\n",
      "21   Phi,dykstra           0.646  0.214  0.571  0.405\n",
      "22   SnF,bonds             0.624  0.280  0.680  0.333\n",
      "22   Flo,conine            0.624  0.393  0.393  0.469\n",
      "24   SnD,plantier          0.603  0.286  0.571  0.375\n",
      "25   Hou,gonzalez          0.596  0.296  0.667  0.296\n",
      "26   Hou,anthony           0.594  0.320  0.480  0.414\n",
      "27   Col,cole              0.579  0.318  0.409  0.400\n",
      "28   Atl,sanders           0.576  0.357  0.643  0.357\n",
      "29   Mon,berry             0.566  0.273  0.273  0.500\n",
      "30   Cub,sosa              0.558  0.303  0.545  0.343\n",
      "31   StL,jefferies         0.551  0.269  0.692  0.296\n",
      "32   Pit,vanslyke          0.549  0.296  0.444  0.387\n",
      "33   *Montreal             0.548  0.312  0.490  0.367\n",
      "34   Los,butler            0.545  0.296  0.333  0.457\n",
      "35   Mon,grissom           0.542  0.333  0.455  0.371\n",
      "36   Pit,king              0.536  0.308  0.346  0.438\n",
      "37   SnD,gwynn             0.533  0.280  0.400  0.379\n",
      "38   Pit,merced            0.532  0.300  0.400  0.391\n",
      "39   NYM,murray            0.521  0.308  0.462  0.357\n",
      "40   StL,gilkey            0.514  0.312  0.438  0.353\n",
      "41   NYM,bonilla           0.507  0.292  0.417  0.370\n",
      "42   SnD,walters           0.501  0.300  0.500  0.333\n",
      "43   Cub,wilson            0.497  0.323  0.452  0.344\n",
      "44   Flo,weiss             0.492  0.261  0.348  0.433\n",
      "45   *Philadelphia         0.487  0.243  0.431  0.348\n",
      "46   Atl,justice           0.480  0.207  0.448  0.361\n",
      "47   *Pittsburgh           0.479  0.292  0.428  0.351\n",
      "48   StL,osmith            0.476  0.310  0.448  0.355\n",
      "49   Phi,incaviglia        0.473  0.250  0.500  0.308\n",
      "50   Pit,young             0.470  0.286  0.500  0.310\n",
      "51   *StLouis              0.467  0.275  0.445  0.344\n",
      "52   *Colorado             0.459  0.287  0.426  0.327\n",
      "53   NYM,hundley           0.458  0.300  0.450  0.333\n",
      "54   NYM,orsulak           0.454  0.357  0.429  0.400\n",
      "55   SnF,benjamin          0.440  0.200  0.500  0.273\n",
      "56   Atl,gant              0.438  0.214  0.464  0.333\n",
      "56   *NYMets               0.438  0.261  0.345  0.356\n",
      "58   *Houston              0.436  0.260  0.415  0.318\n",
      "59   Mon,pitcher           0.434  0.312  0.375  0.353\n",
      "60   Phi,morandini         0.433  0.240  0.360  0.321\n",
      "61   Hou,cedeno            0.427  0.280  0.440  0.308\n",
      "62   Cin,sabo              0.423  0.226  0.452  0.273\n",
      "63   SnF,manwaring         0.413  0.261  0.435  0.292\n",
      "64   *SnFrancisco          0.412  0.253  0.396  0.315\n",
      "65   Atl,blauser           0.409  0.276  0.310  0.364\n",
      "66   SnF,thompson          0.408  0.278  0.389  0.316\n",
      "66   Hou,caminiti          0.408  0.259  0.481  0.286\n",
      "68   Flo,barberie          0.405  0.267  0.267  0.371\n",
      "69   Mon,cordero           0.400  0.276  0.345  0.323\n",
      "70   SnD,sheffield         0.397  0.241  0.448  0.267\n",
      "71   Los,karros            0.392  0.259  0.296  0.355\n",
      "72   SnF,williams          0.391  0.226  0.452  0.250\n",
      "72   SnD,mcgriff           0.391  0.192  0.385  0.276\n",
      "74   Flo,destrade          0.390  0.267  0.333  0.333\n",
      "75   Col,girardi           0.388  0.238  0.381  0.304\n",
      "76   Atl,bream             0.386  0.182  0.409  0.250\n",
      "77   Mon,wood              0.385  0.200  0.300  0.333\n",
      "78   Flo,santiago          0.384  0.200  0.360  0.286\n",
      "79   Phi,thompson          0.383  0.227  0.273  0.320\n",
      "80   SnF,clayton           0.382  0.345  0.379  0.345\n",
      "80   Los,piazza            0.382  0.304  0.391  0.333\n",
      "82   SnD,bell              0.378  0.273  0.364  0.304\n",
      "83   Los,wallach           0.374  0.200  0.400  0.273\n",
      "84   Cin,larkin            0.367  0.281  0.281  0.361\n",
      "85   Pit,garcia            0.366  0.273  0.318  0.304\n",
      "85   *Cincinnati           0.366  0.256  0.319  0.326\n",
      "87   NYM,coleman           0.363  0.259  0.259  0.310\n",
      "88   NYM,kent              0.362  0.190  0.286  0.320\n",
      "89   StL,whiten            0.361  0.240  0.360  0.321\n",
      "90   Cin,roberts           0.359  0.278  0.278  0.333\n",
      "90   *Cubs                 0.359  0.236  0.366  0.277\n",
      "92   SnF,lewis             0.354  0.227  0.364  0.261\n",
      "92   Hou,finley            0.354  0.214  0.250  0.312\n",
      "92   Col,clark             0.354  0.250  0.350  0.286\n",
      "95   Los,pitcher           0.350  0.286  0.357  0.286\n",
      "95   *SnDiego              0.350  0.219  0.357  0.268\n",
      "97   Atl,lemke             0.345  0.200  0.240  0.333\n",
      "98   *LosAngeles           0.339  0.221  0.275  0.311\n",
      "99   SnF,mcgee             0.335  0.267  0.300  0.333\n",
      "99   *Atlanta              0.335  0.199  0.308  0.287\n",
      "101  Cin,sanders           0.334  0.267  0.333  0.290\n",
      "101  Cin,oliver            0.334  0.208  0.208  0.345\n",
      "103  SnD,gardner           0.332  0.238  0.333  0.273\n",
      "103  Los,reed              0.332  0.276  0.276  0.323\n",
      "105  Phi,hollins           0.327  0.226  0.290  0.294\n",
      "106  *Florida              0.326  0.226  0.268  0.311\n",
      "107  Los,davis             0.325  0.188  0.219  0.278\n",
      "108  Atl,pendleton         0.322  0.212  0.273  0.297\n",
      "109  SnF,clark             0.316  0.161  0.290  0.257\n",
      "110  Los,strawberry        0.314  0.111  0.185  0.314\n",
      "110  Hou,biggio            0.314  0.179  0.214  0.303\n",
      "112  Phi,bell              0.304  0.182  0.364  0.217\n",
      "113  Flo,magadan           0.303  0.182  0.182  0.357\n",
      "114  StL,pagnozzi          0.299  0.158  0.316  0.238\n",
      "115  Pit,martin            0.295  0.167  0.417  0.167\n",
      "115  Col,bichette          0.295  0.222  0.389  0.222\n",
      "117  Hou,taubensee         0.294  0.190  0.333  0.227\n",
      "118  Mon,bolick            0.292  0.250  0.312  0.250\n",
      "119  Flo,pose              0.291  0.258  0.323  0.303\n",
      "120  Mon,cianfrocco        0.287  0.188  0.375  0.188\n",
      "121  NYM,johnson           0.274  0.136  0.136  0.296\n",
      "122  Cin,kelly             0.272  0.250  0.333  0.270\n",
      "123  Atl,nixon             0.256  0.185  0.222  0.241\n",
      "124  NYM,pitcher           0.255  0.167  0.250  0.231\n",
      "125  Pit,pitcher           0.250  0.222  0.278  0.222\n",
      "126  Cub,buechle           0.231  0.154  0.192  0.241\n",
      "127  StL,lankford          0.225  0.133  0.133  0.316\n",
      "128  Atl,olson             0.224  0.150  0.150  0.261\n",
      "129  Cub,vizcaino          0.217  0.148  0.259  0.179\n",
      "130  Cub,sanchez           0.212  0.188  0.219  0.212\n",
      "131  Phi,duncan            0.202  0.214  0.214  0.214\n",
      "132  Los,offerman          0.198  0.182  0.182  0.250\n",
      "133  SnF,pitcher           0.197  0.176  0.235  0.176\n",
      "134  Mon,laker             0.183  0.133  0.267  0.133\n",
      "135  Phi,chamberlain       0.180  0.111  0.111  0.200\n",
      "136  SnD,pitcher           0.164  0.182  0.182  0.182\n",
      "136  Atl,pitcher           0.164  0.182  0.182  0.182\n",
      "138  Phi,pitcher           0.159  0.111  0.167  0.158\n",
      "139  Cub,maldonado         0.150  0.105  0.158  0.150\n",
      "140  Flo,felix             0.148  0.172  0.207  0.172\n",
      "141  Cin,espy              0.141  0.100  0.100  0.182\n",
      "142  StL,jordan            0.140  0.105  0.211  0.105\n",
      "143  Atl,berryhill         0.128  0.091  0.182  0.091\n",
      "144  Cub,pitcher           0.126  0.111  0.111  0.158\n",
      "145  SnD,shipley           0.122  0.087  0.174  0.087\n",
      "146  StL,pitcher           0.106  0.125  0.125  0.125\n",
      "147  Hou,pitcher           0.053  0.067  0.067  0.067\n",
      "147  Col,benavides         0.053  0.067  0.067  0.067\n",
      "147  Cin,pitcher           0.053  0.067  0.067  0.067\n",
      "150  Cub,wilkins           0.038  0.000  0.000  0.067\n",
      "151  Flo,pitcher           0.000  0.000  0.000  0.000\n",
      "151  Col,pitcher           0.000  0.000  0.000  0.000\n",
      "\n",
      "      0.74*1B + 1.28*2B + 1.64*3B + 2.25*HR + 0.53*BB + 0.34*(SB-2*CS)\n",
      "OPI = ----------------------------------------------------------------\n",
      "                              AB - H\n",
      "\n",
      "BA = H / AB\n",
      "\n",
      "SLG = (H + 2B + 2*3B + 3*HR) / AB\n",
      "\n",
      "OBA = (H + BB) / (AB + BB)\n",
      "-- \n",
      "Jet Propulsion Laboratory | schmke@cco.caltech.edu\n",
      "4800 Oak Grove Dr.        | schmidt@spc5.jpl.nasa.gov\n",
      "M/S 525-3684              |\n",
      "Pasadena, CA  91109       |\n",
      "\n"
     ]
    }
   ],
   "source": [
    "print(corpus[1 ])"
   ]
  },
  {
   "cell_type": "code",
   "execution_count": 261,
   "metadata": {
    "collapsed": false
   },
   "outputs": [],
   "source": [
    "stopset = set(stopwords.words('english'))\n",
    "stopset.update(['subject', 'organisation', 'lines', 'article', 'NNTP-Posting-Host','weeks', 'little','early', 'comments',\n",
    "                'suggestions','last', 'sign','forget','consider','go','keep','keeps','looking','please','>','mail','computer',\n",
    "                'science','list','include','tonight','charles','pretty','much','rap','something','nothing','think','care'\n",
    "                'things','perhaps','leave','nichols','thanks','robert','nntp','however','matter','mind','mark','obviously','edu'\n",
    "                ,'two','first','back','would','re','cs','00','000','com','one','may','like','get','three','writes','maybe','also',\n",
    "                'year','morris','really','even','people','long','never','see','university','since','11','ca','say','0010','music'\n",
    "                ,'755','002','let','john','ever','doesn','got','number','david','come','12','said','001 100','lot'\n",
    "                ,'000th','002251w','001211 18457','na','001','0023','10','003','005','ramsey', '003015','006','beloved'\n",
    "                '0000ahc', 'udcps3','cps', '0000ahc', 'udcps3','cps', '004746', 'many', 'hr' ,'452','007','dave'\n",
    "                \n",
    "                \n",
    "               ])"
   ]
  },
  {
   "cell_type": "markdown",
   "metadata": {},
   "source": [
    "###  TF-IDF Vectorizing"
   ]
  },
  {
   "cell_type": "markdown",
   "metadata": {},
   "source": [
    "#### Bigrams"
   ]
  },
  {
   "cell_type": "code",
   "execution_count": 262,
   "metadata": {
    "collapsed": false
   },
   "outputs": [],
   "source": [
    "\n",
    "vectorizer = TfidfVectorizer(stop_words= stopset,use_idf=True, ngram_range=(1, 2))\n",
    "\n",
    "X = vectorizer.fit_transform(corpus)"
   ]
  },
  {
   "cell_type": "code",
   "execution_count": 263,
   "metadata": {
    "collapsed": false
   },
   "outputs": [
    {
     "data": {
      "text/plain": [
       "<1x88110 sparse matrix of type '<type 'numpy.float64'>'\n",
       "\twith 127 stored elements in Compressed Sparse Row format>"
      ]
     },
     "execution_count": 263,
     "metadata": {},
     "output_type": "execute_result"
    }
   ],
   "source": [
    "X[0]"
   ]
  },
  {
   "cell_type": "code",
   "execution_count": 264,
   "metadata": {
    "collapsed": false,
    "scrolled": true
   },
   "outputs": [
    {
     "name": "stdout",
     "output_type": "stream",
     "text": [
      "  (0, 9427)\t0.0980225542251\n",
      "  (0, 25448)\t0.0980225542251\n",
      "  (0, 87747)\t0.0980225542251\n",
      "  (0, 68574)\t0.0980225542251\n",
      "  (0, 37441)\t0.0980225542251\n",
      "  (0, 48914)\t0.0791743243739\n",
      "  (0, 32312)\t0.0980225542251\n",
      "  (0, 53728)\t0.0980225542251\n",
      "  (0, 76454)\t0.0980225542251\n",
      "  (0, 84997)\t0.0980225542251\n",
      "  (0, 56236)\t0.0775729316316\n",
      "  (0, 31221)\t0.0980225542251\n",
      "  (0, 49154)\t0.0980225542251\n",
      "  (0, 46160)\t0.0980225542251\n",
      "  (0, 62324)\t0.0980225542251\n",
      "  (0, 67290)\t0.0980225542251\n",
      "  (0, 47280)\t0.0980225542251\n",
      "  (0, 54019)\t0.0599077192399\n",
      "  (0, 77693)\t0.0980225542251\n",
      "  (0, 29553)\t0.0980225542251\n",
      "  (0, 25469)\t0.0980225542251\n",
      "  (0, 17677)\t0.0980225542251\n",
      "  (0, 31216)\t0.0980225542251\n",
      "  (0, 25471)\t0.0885984392995\n",
      "  (0, 32551)\t0.0980225542251\n",
      "  :\t:\n",
      "  (0, 78590)\t0.0603260945227\n",
      "  (0, 39473)\t0.0667163220843\n",
      "  (0, 21552)\t0.0522403830207\n",
      "  (0, 16195)\t0.0715657188027\n",
      "  (0, 40622)\t0.0456754705225\n",
      "  (0, 67414)\t0.07366157054\n",
      "  (0, 57206)\t0.14732314108\n",
      "  (0, 18581)\t0.132105929938\n",
      "  (0, 20203)\t0.139500418897\n",
      "  (0, 8631)\t0.0980225542251\n",
      "  (0, 45837)\t0.14732314108\n",
      "  (0, 3638)\t0.0500777197295\n",
      "  (0, 76768)\t0.0809898337283\n",
      "  (0, 23734)\t0.0517794533248\n",
      "  (0, 82039)\t0.0522403830207\n",
      "  (0, 53628)\t0.0809898337283\n",
      "  (0, 74493)\t0.0496836015875\n",
      "  (0, 14623)\t0.0408550325453\n",
      "  (0, 56903)\t0.0137058812661\n",
      "  (0, 33120)\t0.166171370931\n",
      "  (0, 25410)\t0.214697156408\n",
      "  (0, 19233)\t0.0674137120684\n",
      "  (0, 19247)\t0.0674137120684\n",
      "  (0, 47773)\t0.0660529649688\n",
      "  (0, 86994)\t0.0980225542251\n"
     ]
    }
   ],
   "source": [
    "print(X[0])"
   ]
  },
  {
   "cell_type": "code",
   "execution_count": 265,
   "metadata": {
    "collapsed": false
   },
   "outputs": [
    {
     "data": {
      "text/plain": [
       "(994, 88110)"
      ]
     },
     "execution_count": 265,
     "metadata": {},
     "output_type": "execute_result"
    }
   ],
   "source": [
    "X.shape"
   ]
  },
  {
   "cell_type": "markdown",
   "metadata": {},
   "source": [
    "### Applying LSA"
   ]
  },
  {
   "cell_type": "code",
   "execution_count": 266,
   "metadata": {
    "collapsed": false
   },
   "outputs": [
    {
     "data": {
      "text/plain": [
       "TruncatedSVD(algorithm='randomized', n_components=15, n_iter=100,\n",
       "       random_state=None, tol=0.0)"
      ]
     },
     "execution_count": 266,
     "metadata": {},
     "output_type": "execute_result"
    }
   ],
   "source": [
    "lsa = TruncatedSVD(n_components=15, n_iter=100)\n",
    "lsa.fit(X)"
   ]
  },
  {
   "cell_type": "code",
   "execution_count": 267,
   "metadata": {
    "collapsed": false
   },
   "outputs": [
    {
     "data": {
      "text/plain": [
       "array([ 0.00306077, -0.00450568, -0.01105854, ..., -0.00070911,\n",
       "        0.000802  ,  0.00065452])"
      ]
     },
     "execution_count": 267,
     "metadata": {},
     "output_type": "execute_result"
    }
   ],
   "source": [
    "lsa.components_[2]"
   ]
  },
  {
   "cell_type": "code",
   "execution_count": 268,
   "metadata": {
    "collapsed": false
   },
   "outputs": [
    {
     "name": "stdout",
     "output_type": "stream",
     "text": [
      "Concept 0:\n",
      "team\n",
      "game\n",
      "baseball\n",
      "games\n",
      "players\n",
      "good\n",
      "organization\n",
      "runs\n",
      "hit\n",
      "time\n",
      " \n",
      "Concept 1:\n",
      "team\n",
      "braves\n",
      "news\n",
      "could\n",
      "good\n",
      "00bjgood leo\n",
      "distribution\n",
      "bonds\n",
      "home\n",
      "didn\n",
      " \n",
      "Concept 2:\n",
      "team\n",
      "know\n",
      "day\n",
      "runs\n",
      "didn\n",
      "0096a95c\n",
      "better\n",
      "base\n",
      "season\n",
      "baseball\n",
      " \n",
      "Concept 3:\n",
      "game\n",
      "team\n",
      "games\n",
      "time\n",
      "baseball\n",
      "0062 lafibm\n",
      "organization\n",
      "home\n",
      "season\n",
      "host\n",
      " \n",
      "Concept 4:\n",
      "season\n",
      "play\n",
      "best\n",
      "host\n",
      "won\n",
      "league\n",
      "new\n",
      "player\n",
      "runs\n",
      "0096a95c a0cbe0e8\n",
      " \n",
      "Concept 5:\n",
      "still\n",
      "ball\n",
      "better\n",
      "organization\n",
      "braves\n",
      "ll\n",
      "usa\n",
      "anyone\n",
      "toronto\n",
      "fan\n",
      " \n",
      "Concept 6:\n",
      "hit\n",
      "players\n",
      "time\n",
      "know\n",
      "00bjgood leo\n",
      "teams\n",
      "runs\n",
      "big\n",
      "new\n",
      "host\n",
      " \n",
      "Concept 7:\n",
      "posting\n",
      "game\n",
      "runs\n",
      "braves\n",
      "0096b0f0 c5de05a0\n",
      "pitching\n",
      "might\n",
      "posting host\n",
      "host\n",
      "0096b0f0\n",
      " \n",
      "Concept 8:\n",
      "baseball\n",
      "players\n",
      "host\n",
      "game\n",
      "fans\n",
      "could\n",
      "roger\n",
      "win\n",
      "ball\n",
      "00bjgood leo\n",
      " \n",
      "Concept 9:\n",
      "team\n",
      "right\n",
      "time\n",
      "best\n",
      "player\n",
      "world\n",
      "second\n",
      "hit\n",
      "games\n",
      "roger\n",
      " \n",
      "Concept 10:\n",
      "game\n",
      "braves\n",
      "pitching\n",
      "posting host\n",
      "0062 lafibm\n",
      "005314\n",
      "good\n",
      "play\n",
      "mets\n",
      "guys\n",
      " \n",
      "Concept 11:\n",
      "games\n",
      "runs\n",
      "0096b0f0 c5de05a0\n",
      "ve\n",
      "ll\n",
      "know\n",
      "winning\n",
      "won\n",
      "career\n",
      "pitcher\n",
      " \n",
      "Concept 12:\n",
      "sox\n",
      "games\n",
      "00bjgood\n",
      "host\n",
      "organization\n",
      "know\n",
      "005314\n",
      "team\n",
      "posting host\n",
      "might\n",
      " \n",
      "Concept 13:\n",
      "players\n",
      "hit\n",
      "well\n",
      "games\n",
      "posting\n",
      "win\n",
      "runs\n",
      "best\n",
      "third\n",
      "cubs\n",
      " \n",
      "Concept 14:\n",
      "games\n",
      "good\n",
      "posting host\n",
      "0062 lafibm\n",
      "braves\n",
      "005314\n",
      "0096b0f0\n",
      "league\n",
      "time\n",
      "0096a95c a0cbe0e8\n",
      " \n"
     ]
    }
   ],
   "source": [
    "terms = vectorizer.get_feature_names()\n",
    "for i, comp in enumerate(lsa.components_): \n",
    "    termsInComp = zip (terms,comp)\n",
    "    sortedTerms =  sorted(termsInComp, key=lambda x: x[1], reverse=True) [:10]\n",
    "    print \"Concept %d:\" % i\n",
    "    for term in sortedTerms:\n",
    "        print term[0]\n",
    "    print \" \""
   ]
  },
  {
   "cell_type": "markdown",
   "metadata": {},
   "source": [
    "#### Trigrams"
   ]
  },
  {
   "cell_type": "code",
   "execution_count": 272,
   "metadata": {
    "collapsed": true
   },
   "outputs": [],
   "source": [
    "vectorizer = TfidfVectorizer(stop_words= stopset,use_idf=True, ngram_range=(1, 3))\n",
    "\n",
    "X = vectorizer.fit_transform(corpus)"
   ]
  },
  {
   "cell_type": "code",
   "execution_count": 279,
   "metadata": {
    "collapsed": false
   },
   "outputs": [
    {
     "data": {
      "text/plain": [
       "TruncatedSVD(algorithm='randomized', n_components=15, n_iter=100,\n",
       "       random_state=None, tol=0.0)"
      ]
     },
     "execution_count": 279,
     "metadata": {},
     "output_type": "execute_result"
    }
   ],
   "source": [
    "lsa = TruncatedSVD(n_components=15, n_iter=100)\n",
    "lsa.fit(X)"
   ]
  },
  {
   "cell_type": "code",
   "execution_count": 280,
   "metadata": {
    "collapsed": false
   },
   "outputs": [
    {
     "name": "stdout",
     "output_type": "stream",
     "text": [
      "Concept 0:\n",
      "team\n",
      "game\n",
      "baseball\n",
      "players\n",
      "games\n",
      "good\n",
      "jewish\n",
      "organization\n",
      "hit\n",
      "runs\n",
      " \n",
      "Concept 1:\n",
      "005314\n",
      "win\n",
      "time\n",
      "posting\n",
      "hit\n",
      "runs\n",
      "player\n",
      "well\n",
      "braves\n",
      "games\n",
      " \n",
      "Concept 2:\n",
      "team\n",
      "runs\n",
      "play\n",
      "braves\n",
      "0062 lafibm lafayette\n",
      "organization\n",
      "gant\n",
      "pitching\n",
      "won\n",
      "sox\n",
      " \n",
      "Concept 3:\n",
      "league\n",
      "0096a95c a0cbe0e8\n",
      "won\n",
      "williams\n",
      "braves\n",
      "player\n",
      "play\n",
      "mets\n",
      "005314 5700\n",
      "base\n",
      " \n",
      "Concept 4:\n",
      "host\n",
      "posting\n",
      "anyone\n",
      "distribution\n",
      "run\n",
      "rbi\n",
      "roger\n",
      "good\n",
      "could\n",
      "game\n",
      " \n",
      "Concept 5:\n",
      "team\n",
      "well\n",
      "better\n",
      "hitter\n",
      "williams\n",
      "season\n",
      "make\n",
      "005314 5700 mnemosyne\n",
      "around\n",
      "michael\n",
      " \n",
      "Concept 6:\n",
      "good\n",
      "way\n",
      "day\n",
      "point\n",
      "players\n",
      "jhu\n",
      "play\n",
      "stats\n",
      "hp\n",
      "0062 lafibm lafayette\n",
      " \n",
      "Concept 7:\n",
      "hit\n",
      "baseball\n",
      "good\n",
      "0096a95c\n",
      "005314\n",
      "know\n",
      "fans\n",
      "time\n",
      "game\n",
      "anyone\n",
      " \n",
      "Concept 8:\n",
      "0062\n",
      "good\n",
      "runs\n",
      "know\n",
      "0062 lafibm lafayette\n",
      "reply\n",
      "games\n",
      "players\n",
      "posting host\n",
      "005314\n",
      " \n",
      "Concept 9:\n",
      "0096a95c a0cbe0e8\n",
      "news\n",
      "organization\n",
      "michael\n",
      "good\n",
      "posting host\n",
      "could\n",
      "time\n",
      "win\n",
      "jewish\n",
      " \n",
      "Concept 10:\n",
      "game\n",
      "play\n",
      "win\n",
      "005314\n",
      "roger\n",
      "gant\n",
      "0062 lafibm lafayette\n",
      "0062 lafibm\n",
      "best\n",
      "001211 18457 adobe\n",
      " \n",
      "Concept 11:\n",
      "runs\n",
      "good\n",
      "player\n",
      "well\n",
      "players\n",
      "ny\n",
      "host\n",
      "game\n",
      "0096a95c a0cbe0e8 reply\n",
      "batting\n",
      " \n",
      "Concept 12:\n",
      "game\n",
      "games\n",
      "jewish\n",
      "ll\n",
      "cubs\n",
      "years\n",
      "player\n",
      "good\n",
      "anyone\n",
      "005314 5700\n",
      " \n",
      "Concept 13:\n",
      "news\n",
      "baseball\n",
      "games\n",
      "players\n",
      "0096a95c a0cbe0e8 reply\n",
      "well\n",
      "runs\n",
      "world\n",
      "won\n",
      "still\n",
      " \n",
      "Concept 14:\n",
      "baseball\n",
      "005314 5700 mnemosyne\n",
      "win\n",
      "005314\n",
      "0062\n",
      "game\n",
      "pitching\n",
      "host\n",
      "hitter\n",
      "005314 5700\n",
      " \n"
     ]
    }
   ],
   "source": [
    "terms = vectorizer.get_feature_names()\n",
    "for i, comp in enumerate(lsa.components_): \n",
    "    termsInComp = zip (terms,comp)\n",
    "    sortedTerms =  sorted(termsInComp, key=lambda x: x[1], reverse=True) [:10]\n",
    "    print \"Concept %d:\" % i\n",
    "    for term in sortedTerms:\n",
    "        print term[0]\n",
    "    print \" \""
   ]
  },
  {
   "cell_type": "code",
   "execution_count": null,
   "metadata": {
    "collapsed": true
   },
   "outputs": [],
   "source": []
  }
 ],
 "metadata": {
  "kernelspec": {
   "display_name": "Python 2",
   "language": "python",
   "name": "python2"
  },
  "language_info": {
   "codemirror_mode": {
    "name": "ipython",
    "version": 2
   },
   "file_extension": ".py",
   "mimetype": "text/x-python",
   "name": "python",
   "nbconvert_exporter": "python",
   "pygments_lexer": "ipython2",
   "version": "2.7.10"
  }
 },
 "nbformat": 4,
 "nbformat_minor": 0
}
